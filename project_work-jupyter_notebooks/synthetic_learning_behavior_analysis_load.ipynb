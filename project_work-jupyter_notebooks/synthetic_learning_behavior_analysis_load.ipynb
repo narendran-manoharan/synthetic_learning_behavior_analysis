{
  "cells": [
    {
      "cell_type": "markdown",
      "metadata": {},
      "source": [
        "# **Synthetic Learning Behavior Analysis: Load**"
      ]
    },
    {
      "cell_type": "markdown",
      "metadata": {
        "id": "1eLEkw5O0ECa"
      },
      "source": [
        "## Objectives\n",
        "\n",
        "* By the end of the load phase, I will:\n",
        "    1. Summarize the ETL steps.\n",
        "    2. Outline the next steps.\n",
        "\n",
        "\n",
        "## Inputs\n",
        "\n",
        "* [Task outline](https://code-institute-org.github.io/5P-Assessments-Handbook/da-ai-bootcamp-capstone-prelims.html)\n",
        "* Extract phase and transformation phase outcomes\n",
        "* personalized_learning_dataset_transformed.csv \n",
        "\n",
        "\n",
        "## Outputs\n",
        "\n",
        "* Summary of the ETL process\n",
        "* Next steps"
      ]
    },
    {
      "cell_type": "markdown",
      "metadata": {
        "id": "9uWZXH9LwoQg"
      },
      "source": [
        "---"
      ]
    },
    {
      "cell_type": "markdown",
      "metadata": {},
      "source": [
        "# Import key libraries"
      ]
    },
    {
      "cell_type": "code",
      "execution_count": 1,
      "metadata": {},
      "outputs": [],
      "source": [
        "import numpy as np\n",
        "import pandas as pd\n",
        "import matplotlib.pyplot as plt\n",
        "import seaborn as sns\n",
        "import plotly.express as px"
      ]
    },
    {
      "cell_type": "markdown",
      "metadata": {},
      "source": [
        "# Data upload"
      ]
    },
    {
      "cell_type": "code",
      "execution_count": 2,
      "metadata": {},
      "outputs": [
        {
          "data": {
            "text/html": [
              "<div>\n",
              "<style scoped>\n",
              "    .dataframe tbody tr th:only-of-type {\n",
              "        vertical-align: middle;\n",
              "    }\n",
              "\n",
              "    .dataframe tbody tr th {\n",
              "        vertical-align: top;\n",
              "    }\n",
              "\n",
              "    .dataframe thead th {\n",
              "        text-align: right;\n",
              "    }\n",
              "</style>\n",
              "<table border=\"1\" class=\"dataframe\">\n",
              "  <thead>\n",
              "    <tr style=\"text-align: right;\">\n",
              "      <th></th>\n",
              "      <th>Age</th>\n",
              "      <th>Education_Level</th>\n",
              "      <th>Time_Spent_on_Videos</th>\n",
              "      <th>Quiz_Attempts</th>\n",
              "      <th>Quiz_Scores</th>\n",
              "      <th>Forum_Participation</th>\n",
              "      <th>Assignment_Completion_Rate</th>\n",
              "      <th>Engagement_Level</th>\n",
              "      <th>Final_Exam_Score</th>\n",
              "      <th>Feedback_Score</th>\n",
              "      <th>Dropout_Likelihood</th>\n",
              "      <th>Gender_Female</th>\n",
              "      <th>Gender_Male</th>\n",
              "      <th>Course_Name_Machine Learning</th>\n",
              "      <th>Course_Name_Python Basics</th>\n",
              "      <th>Course_Name_Data Science</th>\n",
              "      <th>Course_Name_Web Development</th>\n",
              "      <th>Learning_Style_Visual</th>\n",
              "      <th>Learning_Style_Reading/Writing</th>\n",
              "      <th>Learning_Style_Kinesthetic</th>\n",
              "    </tr>\n",
              "  </thead>\n",
              "  <tbody>\n",
              "    <tr>\n",
              "      <th>0</th>\n",
              "      <td>15</td>\n",
              "      <td>0</td>\n",
              "      <td>171</td>\n",
              "      <td>4</td>\n",
              "      <td>67</td>\n",
              "      <td>2</td>\n",
              "      <td>89</td>\n",
              "      <td>1</td>\n",
              "      <td>51</td>\n",
              "      <td>1</td>\n",
              "      <td>0</td>\n",
              "      <td>1</td>\n",
              "      <td>0</td>\n",
              "      <td>1</td>\n",
              "      <td>0</td>\n",
              "      <td>0</td>\n",
              "      <td>0</td>\n",
              "      <td>1</td>\n",
              "      <td>0</td>\n",
              "      <td>0</td>\n",
              "    </tr>\n",
              "    <tr>\n",
              "      <th>1</th>\n",
              "      <td>49</td>\n",
              "      <td>1</td>\n",
              "      <td>156</td>\n",
              "      <td>4</td>\n",
              "      <td>64</td>\n",
              "      <td>0</td>\n",
              "      <td>94</td>\n",
              "      <td>1</td>\n",
              "      <td>92</td>\n",
              "      <td>5</td>\n",
              "      <td>0</td>\n",
              "      <td>0</td>\n",
              "      <td>1</td>\n",
              "      <td>0</td>\n",
              "      <td>1</td>\n",
              "      <td>0</td>\n",
              "      <td>0</td>\n",
              "      <td>0</td>\n",
              "      <td>1</td>\n",
              "      <td>0</td>\n",
              "    </tr>\n",
              "    <tr>\n",
              "      <th>2</th>\n",
              "      <td>20</td>\n",
              "      <td>1</td>\n",
              "      <td>217</td>\n",
              "      <td>2</td>\n",
              "      <td>55</td>\n",
              "      <td>2</td>\n",
              "      <td>67</td>\n",
              "      <td>1</td>\n",
              "      <td>45</td>\n",
              "      <td>1</td>\n",
              "      <td>0</td>\n",
              "      <td>1</td>\n",
              "      <td>0</td>\n",
              "      <td>0</td>\n",
              "      <td>1</td>\n",
              "      <td>0</td>\n",
              "      <td>0</td>\n",
              "      <td>0</td>\n",
              "      <td>1</td>\n",
              "      <td>0</td>\n",
              "    </tr>\n",
              "    <tr>\n",
              "      <th>3</th>\n",
              "      <td>37</td>\n",
              "      <td>1</td>\n",
              "      <td>489</td>\n",
              "      <td>1</td>\n",
              "      <td>65</td>\n",
              "      <td>43</td>\n",
              "      <td>60</td>\n",
              "      <td>2</td>\n",
              "      <td>59</td>\n",
              "      <td>4</td>\n",
              "      <td>0</td>\n",
              "      <td>1</td>\n",
              "      <td>0</td>\n",
              "      <td>0</td>\n",
              "      <td>0</td>\n",
              "      <td>1</td>\n",
              "      <td>0</td>\n",
              "      <td>1</td>\n",
              "      <td>0</td>\n",
              "      <td>0</td>\n",
              "    </tr>\n",
              "    <tr>\n",
              "      <th>4</th>\n",
              "      <td>34</td>\n",
              "      <td>2</td>\n",
              "      <td>496</td>\n",
              "      <td>3</td>\n",
              "      <td>59</td>\n",
              "      <td>34</td>\n",
              "      <td>88</td>\n",
              "      <td>1</td>\n",
              "      <td>93</td>\n",
              "      <td>3</td>\n",
              "      <td>0</td>\n",
              "      <td>1</td>\n",
              "      <td>0</td>\n",
              "      <td>0</td>\n",
              "      <td>1</td>\n",
              "      <td>0</td>\n",
              "      <td>0</td>\n",
              "      <td>1</td>\n",
              "      <td>0</td>\n",
              "      <td>0</td>\n",
              "    </tr>\n",
              "  </tbody>\n",
              "</table>\n",
              "</div>"
            ],
            "text/plain": [
              "   Age  Education_Level  Time_Spent_on_Videos  Quiz_Attempts  Quiz_Scores  \\\n",
              "0   15                0                   171              4           67   \n",
              "1   49                1                   156              4           64   \n",
              "2   20                1                   217              2           55   \n",
              "3   37                1                   489              1           65   \n",
              "4   34                2                   496              3           59   \n",
              "\n",
              "   Forum_Participation  Assignment_Completion_Rate  Engagement_Level  \\\n",
              "0                    2                          89                 1   \n",
              "1                    0                          94                 1   \n",
              "2                    2                          67                 1   \n",
              "3                   43                          60                 2   \n",
              "4                   34                          88                 1   \n",
              "\n",
              "   Final_Exam_Score  Feedback_Score  Dropout_Likelihood  Gender_Female  \\\n",
              "0                51               1                   0              1   \n",
              "1                92               5                   0              0   \n",
              "2                45               1                   0              1   \n",
              "3                59               4                   0              1   \n",
              "4                93               3                   0              1   \n",
              "\n",
              "   Gender_Male  Course_Name_Machine Learning  Course_Name_Python Basics  \\\n",
              "0            0                             1                          0   \n",
              "1            1                             0                          1   \n",
              "2            0                             0                          1   \n",
              "3            0                             0                          0   \n",
              "4            0                             0                          1   \n",
              "\n",
              "   Course_Name_Data Science  Course_Name_Web Development  \\\n",
              "0                         0                            0   \n",
              "1                         0                            0   \n",
              "2                         0                            0   \n",
              "3                         1                            0   \n",
              "4                         0                            0   \n",
              "\n",
              "   Learning_Style_Visual  Learning_Style_Reading/Writing  \\\n",
              "0                      1                               0   \n",
              "1                      0                               1   \n",
              "2                      0                               1   \n",
              "3                      1                               0   \n",
              "4                      1                               0   \n",
              "\n",
              "   Learning_Style_Kinesthetic  \n",
              "0                           0  \n",
              "1                           0  \n",
              "2                           0  \n",
              "3                           0  \n",
              "4                           0  "
            ]
          },
          "execution_count": 2,
          "metadata": {},
          "output_type": "execute_result"
        }
      ],
      "source": [
        "df = pd.read_csv(\"../data/transformed_data/personalized_learning_dataset_transformed.csv\")\n",
        "df.head(5)"
      ]
    },
    {
      "cell_type": "markdown",
      "metadata": {},
      "source": [
        "---"
      ]
    },
    {
      "cell_type": "markdown",
      "metadata": {},
      "source": [
        "# Sanity check"
      ]
    },
    {
      "cell_type": "markdown",
      "metadata": {},
      "source": [
        "Checking if transformation has left any unintended values or missing values."
      ]
    },
    {
      "cell_type": "code",
      "execution_count": 4,
      "metadata": {},
      "outputs": [
        {
          "data": {
            "text/plain": [
              "Age                               0\n",
              "Education_Level                   0\n",
              "Time_Spent_on_Videos              0\n",
              "Quiz_Attempts                     0\n",
              "Quiz_Scores                       0\n",
              "Forum_Participation               0\n",
              "Assignment_Completion_Rate        0\n",
              "Engagement_Level                  0\n",
              "Final_Exam_Score                  0\n",
              "Feedback_Score                    0\n",
              "Dropout_Likelihood                0\n",
              "Gender_Female                     0\n",
              "Gender_Male                       0\n",
              "Course_Name_Machine Learning      0\n",
              "Course_Name_Python Basics         0\n",
              "Course_Name_Data Science          0\n",
              "Course_Name_Web Development       0\n",
              "Learning_Style_Visual             0\n",
              "Learning_Style_Reading/Writing    0\n",
              "Learning_Style_Kinesthetic        0\n",
              "dtype: int64"
            ]
          },
          "execution_count": 4,
          "metadata": {},
          "output_type": "execute_result"
        }
      ],
      "source": [
        "df.isnull().sum()"
      ]
    },
    {
      "cell_type": "markdown",
      "metadata": {},
      "source": [
        "No data is missing from the transformed dataset."
      ]
    },
    {
      "cell_type": "code",
      "execution_count": 5,
      "metadata": {},
      "outputs": [
        {
          "data": {
            "text/html": [
              "<div>\n",
              "<style scoped>\n",
              "    .dataframe tbody tr th:only-of-type {\n",
              "        vertical-align: middle;\n",
              "    }\n",
              "\n",
              "    .dataframe tbody tr th {\n",
              "        vertical-align: top;\n",
              "    }\n",
              "\n",
              "    .dataframe thead th {\n",
              "        text-align: right;\n",
              "    }\n",
              "</style>\n",
              "<table border=\"1\" class=\"dataframe\">\n",
              "  <thead>\n",
              "    <tr style=\"text-align: right;\">\n",
              "      <th></th>\n",
              "      <th>Age</th>\n",
              "      <th>Education_Level</th>\n",
              "      <th>Time_Spent_on_Videos</th>\n",
              "      <th>Quiz_Attempts</th>\n",
              "      <th>Quiz_Scores</th>\n",
              "      <th>Forum_Participation</th>\n",
              "      <th>Assignment_Completion_Rate</th>\n",
              "      <th>Engagement_Level</th>\n",
              "      <th>Final_Exam_Score</th>\n",
              "      <th>Feedback_Score</th>\n",
              "      <th>Dropout_Likelihood</th>\n",
              "      <th>Gender_Female</th>\n",
              "      <th>Gender_Male</th>\n",
              "      <th>Course_Name_Machine Learning</th>\n",
              "      <th>Course_Name_Python Basics</th>\n",
              "      <th>Course_Name_Data Science</th>\n",
              "      <th>Course_Name_Web Development</th>\n",
              "      <th>Learning_Style_Visual</th>\n",
              "      <th>Learning_Style_Reading/Writing</th>\n",
              "      <th>Learning_Style_Kinesthetic</th>\n",
              "    </tr>\n",
              "  </thead>\n",
              "  <tbody>\n",
              "  </tbody>\n",
              "</table>\n",
              "</div>"
            ],
            "text/plain": [
              "Empty DataFrame\n",
              "Columns: [Age, Education_Level, Time_Spent_on_Videos, Quiz_Attempts, Quiz_Scores, Forum_Participation, Assignment_Completion_Rate, Engagement_Level, Final_Exam_Score, Feedback_Score, Dropout_Likelihood, Gender_Female, Gender_Male, Course_Name_Machine Learning, Course_Name_Python Basics, Course_Name_Data Science, Course_Name_Web Development, Learning_Style_Visual, Learning_Style_Reading/Writing, Learning_Style_Kinesthetic]\n",
              "Index: []"
            ]
          },
          "execution_count": 5,
          "metadata": {},
          "output_type": "execute_result"
        }
      ],
      "source": [
        "df_duplicate = df[df.duplicated()]\n",
        "df_duplicate"
      ]
    },
    {
      "cell_type": "markdown",
      "metadata": {},
      "source": [
        "Transformation has not duplicated any values."
      ]
    },
    {
      "cell_type": "code",
      "execution_count": 3,
      "metadata": {},
      "outputs": [
        {
          "data": {
            "text/plain": [
              "Age                                  0\n",
              "Education_Level                   2923\n",
              "Time_Spent_on_Videos                 0\n",
              "Quiz_Attempts                        0\n",
              "Quiz_Scores                          0\n",
              "Forum_Participation                204\n",
              "Assignment_Completion_Rate           0\n",
              "Engagement_Level                  2093\n",
              "Final_Exam_Score                     0\n",
              "Feedback_Score                       0\n",
              "Dropout_Likelihood                8043\n",
              "Gender_Female                     5114\n",
              "Gender_Male                       5301\n",
              "Course_Name_Machine Learning      7957\n",
              "Course_Name_Python Basics         8006\n",
              "Course_Name_Data Science          8016\n",
              "Course_Name_Web Development       8047\n",
              "Learning_Style_Visual             7475\n",
              "Learning_Style_Reading/Writing    7446\n",
              "Learning_Style_Kinesthetic        7557\n",
              "dtype: int64"
            ]
          },
          "execution_count": 3,
          "metadata": {},
          "output_type": "execute_result"
        }
      ],
      "source": [
        "(df == 0).sum()"
      ]
    },
    {
      "cell_type": "markdown",
      "metadata": {},
      "source": [
        "Forum_Participation contains 204 null values and I assumed that they represent learners who did not participate in forum discussions within the synthetic learning dataset."
      ]
    },
    {
      "cell_type": "markdown",
      "metadata": {},
      "source": [
        "Transformation included ordinal (manual) and OneHot encoding. The null values seen above represent encoded values rather than missing data or actual observations."
      ]
    },
    {
      "cell_type": "markdown",
      "metadata": {},
      "source": [
        "---"
      ]
    },
    {
      "cell_type": "markdown",
      "metadata": {},
      "source": [
        "# Data dictionary"
      ]
    },
    {
      "cell_type": "markdown",
      "metadata": {},
      "source": [
        "|Feature| Explanation|\n",
        "|------------------------------|-----------------------------------------------------------------------------| \n",
        "|Student_ID| Unique identifier for each learner|\n",
        "|Age| Age of the learners|\n",
        "|Gender| Gender of the learners|\n",
        "|Education_Level| The level of schooling|\n",
        "|Course_Name| Learners' choice of digital training session|\n",
        "|Time_Spent_on_Videos| The number of minutes learners spend on reviewing videos|\n",
        "|Quiz_Attempts| The number of trials on a quiz|\n",
        "|Quiz_Scores| The measurable outcome of a quiz (measured in percentage)|\n",
        "|Forum_Participation| The number of times learners participated in a discussion forum|\n",
        "|Assignment_Completion_Rate| The percentage of completed assignments|\n",
        "|Engagement_Level| The level of learner engagement (based on activity metrics)|\n",
        "|Final_Exam_Score| The measurable outcome of the learning session (measured in percentage)|\n",
        "|Learning_Style| Preferred method of learning|\n",
        "|Feedback_Score| Measure of learners' rating for the course (measured upon 5)|\n",
        "|Dropout_Likelihood| Probability of a learner dropping out of the course|"
      ]
    },
    {
      "cell_type": "markdown",
      "metadata": {},
      "source": [
        "**Transformed features: Legend**"
      ]
    },
    {
      "cell_type": "markdown",
      "metadata": {},
      "source": [
        "| Feature            | Original Value     | Encoded Value | Method                |\n",
        "|--------------------|-------------------|---------------|-----------------------|\n",
        "| Gender             | Male              | -             | OneHot Encoding       |\n",
        "|              | Female            | -             | OneHot Encoding       |\n",
        "|              | Other             | -             | OneHot Encoding       |\n",
        "| Education_Level    | High School       | 0             | Manual, ordinal       |\n",
        "|     | Undergraduate     | 1             | Manual, ordinal       |\n",
        "|     | Postgraduate      | 2             | Manual, ordinal       |\n",
        "| Course_Name        | Machine_Learning  | -             | OneHot Encoding       |\n",
        "|        | Python_Basics     | -             | OneHot Encoding       |\n",
        "|         | Data_Science      | -             | OneHot Encoding       |\n",
        "|         | Web_Development   | -             | OneHot Encoding       |\n",
        "|         | Cybersecurity     | -             | OneHot Encoding       |\n",
        "| Engagement_Level   | Low               | 0             | Manual, ordinal       |\n",
        "|    | Medium            | 1             | Manual, ordinal       |\n",
        "|    | High              | 2             | Manual, ordinal       |\n",
        "| Learning_Style     | Visual            | -             | OneHot Encoding       |\n",
        "|     | Reading/Writing   | -             | OneHot Encoding       |\n",
        "|      | Kinesthetic       | -             | OneHot Encoding       |\n",
        "|      | Auditory          | -             | OneHot Encoding       |\n",
        "| Dropout_Likelihood | No                | 0             | Manual, ordinal       |\n",
        "|  | Yes               | 1             | Manual, ordinal       |"
      ]
    },
    {
      "cell_type": "markdown",
      "metadata": {},
      "source": [
        "**Table modification credit:** Used GitHub copilot to modify the table as the one I created ran into issue. Then, I removed the repetitive values."
      ]
    },
    {
      "cell_type": "markdown",
      "metadata": {},
      "source": [
        "---"
      ]
    },
    {
      "cell_type": "markdown",
      "metadata": {},
      "source": [
        "# ETL summary"
      ]
    },
    {
      "cell_type": "markdown",
      "metadata": {},
      "source": [
        "**Extract:**\n",
        "1. Loaded the dataset from Kaggle\n",
        "\n",
        "2. Checked for missing data, null values, and duplicates\n",
        "\n",
        "3. Drafted business problems, captured assumptions, explained ehtical implications and added a disclaimer\n",
        "\n",
        "4. Captured assumptions and added a disclaimer regarding the synthetic nature of the data\n",
        "\n",
        "5. Inspected data distrubition, analyzed correlation, probed for outliers, and visualized the data for exploration\n",
        "\n",
        "6. Determined transformation steps and copied the dataset\n",
        "\n",
        "7. Explained key concepts such as mean, median, standard deviation at various points as part of exploratory data analysis\n",
        "\n",
        "**Transform:**\n",
        "1. Encoded the categorical variables in two steps\n",
        "    a. Manual ordinal encoding where categories formed a natural order\n",
        "    b. OneHot encoding where there was no inherent order\n",
        "\n",
        "2. Ran correlation analysis on transformed data\n",
        "\n",
        "3. Verified data distribution, determined research methodlogy, conducted statistical test on hypotheses, explained the results, and visualized them\n",
        "\n",
        "4. Explained key statistical concepts such as probability, hypotheses, p-value, and the likes\n",
        "\n",
        "5. Captured business recommendations and explained why they matter and how they need to be interpret in the real world\n",
        "\n",
        "6. Created two machine learning models and contextualized the results considering the data is synthetic\n",
        "\n",
        "7. Captured challenges, solutions, and ethical implications\n",
        "\n",
        "**Load:**\n",
        "1. Reloaded the transformed dataset and performed a sanity check\n",
        "\n",
        "2. Summarized the ETL process\n",
        "\n",
        "3. Captured the next steps"
      ]
    },
    {
      "cell_type": "markdown",
      "metadata": {},
      "source": [
        "---"
      ]
    },
    {
      "cell_type": "markdown",
      "metadata": {},
      "source": [
        "# Next steps"
      ]
    },
    {
      "cell_type": "markdown",
      "metadata": {},
      "source": [
        "1. Recommend we collate real-world data. Such data can be found internally or can be sourced externally.\n",
        "\n",
        "2. Based on real data, the following needs to be reviewed and updated:\n",
        "\n",
        "    a. Features present in the dataset\n",
        "\n",
        "    b. correlation between features\n",
        "    \n",
        "    c. Outliers\n",
        "    \n",
        "    d. Data distribution\n",
        "\n",
        "    e. Data transformation\n",
        "    \n",
        "    f. Research methodology and the hypotheses tested\n",
        "\n",
        "    g. Machine Learing models and pipeline\n",
        "\n",
        "3. In the next sprint, review how data bias data will be handled\n",
        "\n",
        "4. Build a dashboard that enables exploring the current dataset\n"
      ]
    },
    {
      "cell_type": "markdown",
      "metadata": {},
      "source": [
        "---"
      ]
    },
    {
      "cell_type": "markdown",
      "metadata": {},
      "source": [
        "**Note:**\n",
        "I have created a [PowerBI dashboard](https://app.powerbi.com/groups/me/reports/4ccffe8b-95d8-4c7b-9dec-535c2629c6bf/70d7640d009e4ea9983d?experience=power-bi&clientSideAuth=0) that helps visualize and explore the dataset futher."
      ]
    }
  ],
  "metadata": {
    "accelerator": "GPU",
    "colab": {
      "name": "Data Practitioner Jupyter Notebook.ipynb",
      "provenance": [],
      "toc_visible": true
    },
    "kernelspec": {
      "display_name": ".venv",
      "language": "python",
      "name": "python3"
    },
    "language_info": {
      "codemirror_mode": {
        "name": "ipython",
        "version": 3
      },
      "file_extension": ".py",
      "mimetype": "text/x-python",
      "name": "python",
      "nbconvert_exporter": "python",
      "pygments_lexer": "ipython3",
      "version": "3.12.8"
    },
    "orig_nbformat": 2
  },
  "nbformat": 4,
  "nbformat_minor": 2
}
