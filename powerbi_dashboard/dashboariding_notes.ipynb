{
 "cells": [
  {
   "cell_type": "markdown",
   "id": "135a6d2b",
   "metadata": {},
   "source": [
    "# Brainstorming notepad for visualization"
   ]
  },
  {
   "cell_type": "markdown",
   "id": "2a0a9b78",
   "metadata": {},
   "source": [
    "This notebook is designed to capture my ideation process, problems that I run into, and the lessons learned in visualization."
   ]
  },
  {
   "cell_type": "markdown",
   "id": "d6863168",
   "metadata": {
    "vscode": {
     "languageId": "plaintext"
    }
   },
   "source": [
    "## Tool choice"
   ]
  },
  {
   "cell_type": "markdown",
   "id": "835e57ef",
   "metadata": {
    "vscode": {
     "languageId": "plaintext"
    }
   },
   "source": [
    "I am leveraging PowerBI to visualize and create a dashboard for its ease of use and speed. While I find Tableau a little more intiutive, I am choosing PowerBI for how quickly it allows me to complete tasks.\n",
    "\n",
    "Additionally, Tableau public is open to everyone which might deter some organizations from leveraging the platform to share reports."
   ]
  },
  {
   "cell_type": "markdown",
   "id": "41cc5bbe",
   "metadata": {},
   "source": [
    "---"
   ]
  },
  {
   "cell_type": "markdown",
   "id": "45797193",
   "metadata": {},
   "source": [
    "## Ethical implications"
   ]
  },
  {
   "cell_type": "markdown",
   "id": "a3f562b3",
   "metadata": {},
   "source": [
    "As the dataset is synthetic (engineered), it virtually poses no privacy concerns. During the data transformation stage, I dropped the unique identifier, anonymizing the data further. \n",
    "\n",
    "To further enhance security and avoid unauthorized access, I will share the dashboard link only with the relevant stakeholders through the ReadMe file. I will also upload the source file onto VSCode to further protect its access."
   ]
  },
  {
   "cell_type": "markdown",
   "id": "311a8a8b",
   "metadata": {},
   "source": [
    "---"
   ]
  },
  {
   "cell_type": "markdown",
   "id": "8520847b",
   "metadata": {},
   "source": [
    "## Measures and lessons learned"
   ]
  },
  {
   "cell_type": "markdown",
   "id": "dc029b4f",
   "metadata": {},
   "source": [
    "Added an index col"
   ]
  },
  {
   "cell_type": "markdown",
   "id": "efe0ab09",
   "metadata": {},
   "source": [
    "Converted the following features to percentages through a query.\n",
    "1. Quiz_Scores\n",
    "2. Assignment_Completion_Rate\n",
    "3. Final_Exam_Score"
   ]
  },
  {
   "cell_type": "markdown",
   "id": "687698ff",
   "metadata": {},
   "source": [
    "Decoded the encoded columns by running a DAX query. Later, hid the encoded columns for ease of use. Leveraged ChatGPT to get DAX queries. \n",
    "\n",
    "Some of the columns required to be reordered and this exercise taught me how ordering variables worked on PoweBI."
   ]
  },
  {
   "cell_type": "markdown",
   "id": "72d2161a",
   "metadata": {},
   "source": [
    "Ran into a DAX problem when trying to decode the leanring style reading/writing as it has a \"/\" symbol in it. Trying to rename the col and handle the issue. Iterated with ChatGPT and resolved the issue."
   ]
  },
  {
   "cell_type": "markdown",
   "id": "be3825e6",
   "metadata": {},
   "source": [
    "Adding key measures that were calculated from the column:\n",
    "1. Total number of learners\n",
    "\n",
    "2. Passing learners\n",
    "\n",
    "3. Pass rate\n",
    "\n",
    "4. Dropouts\n",
    "\n",
    "5. Dropout rate\n",
    "\n",
    "6. Averages of:\n",
    "    a. Time spent on videos\n",
    "\n",
    "    b. Quiz scores\n",
    "\n",
    "    c. Quiz attempts\n",
    "\n",
    "    d. Forum participation\n",
    "\n",
    "    e. Final exam score\n",
    "\n",
    "    f. Feeedback score percentage\n",
    "\n",
    "    g. Assignment completion rate\n",
    "\n"
   ]
  },
  {
   "cell_type": "markdown",
   "id": "0b60c5c6",
   "metadata": {},
   "source": [
    "Hex code:\n",
    "\n",
    "1. ML: #C499CA\n",
    "2. DS: #7EBCDA\n",
    "3. Cybsec: #F0A787\n",
    "4. Python: #4ADEB9\n",
    "5. WD: #17A2B8"
   ]
  },
  {
   "cell_type": "markdown",
   "id": "3abae1d8",
   "metadata": {},
   "source": [
    "---"
   ]
  },
  {
   "cell_type": "markdown",
   "id": "bc87384e",
   "metadata": {},
   "source": [
    "## Credit"
   ]
  },
  {
   "cell_type": "markdown",
   "id": "ff5b7ea3",
   "metadata": {},
   "source": [
    "**Code and visualization credit:**\n",
    "ChatGPT and Preplexity were my code and visualization partners. Various aspects such as the layout, feature engineering, charts to leverage, DAX code. I also used these tools to resolve challenges that I ran into. "
   ]
  }
 ],
 "metadata": {
  "language_info": {
   "name": "python"
  }
 },
 "nbformat": 4,
 "nbformat_minor": 5
}
