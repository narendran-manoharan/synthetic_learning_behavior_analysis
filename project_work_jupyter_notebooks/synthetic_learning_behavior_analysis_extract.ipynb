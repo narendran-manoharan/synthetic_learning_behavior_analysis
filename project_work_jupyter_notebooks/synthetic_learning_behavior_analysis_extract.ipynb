{
  "cells": [
    {
      "cell_type": "markdown",
      "metadata": {
        "id": "0aStgWSO0E0E"
      },
      "source": [
        "# **Synthetic Learning Behavior Analysis: Extract**"
      ]
    },
    {
      "cell_type": "markdown",
      "metadata": {
        "id": "1eLEkw5O0ECa"
      },
      "source": [
        "## Objectives\n",
        "\n",
        "* By the end of the extraction phase, I will:\n",
        "    1. Import the dataset from Kaggle.\n",
        "    2. Check the data for missing and null values, and duplicates.\n",
        "    3. Define a data dictionary.\n",
        "    4. Analyze summary statistics.\n",
        "    5. Analyze correlation.\n",
        "    6. Explore further through visualizations.\n",
        "    7. State assumptions.\n",
        "    8. Summarize findings.\n",
        "\n",
        "\n",
        "## Inputs\n",
        "\n",
        "* [Task outline](https://code-institute-org.github.io/5P-Assessments-Handbook/da-ai-bootcamp-capstone-prelims.html)\n",
        "* [Kaggle dataset](https://www.kaggle.com/datasets/adilshamim8/personalized-learning-and-adaptive-education-dataset/data)\n",
        "* Libraries from the requirements.txt file \n",
        "\n",
        "\n",
        "## Outputs\n",
        "\n",
        "* Overview of the dataset, its features, and how they are interacting.\n",
        "* Basic visaulizations that complement the overview.\n",
        "* Summary of the findings and an overview of the next step. \n",
        "\n",
        "## Disclaimer\n",
        "\n",
        "* This dataset is synthetically created, as called out by the owner in Kaggle. The observations I find here may reflect real-world behavior to some degree. However, I will not use the dataset to draw causal inferences. Having said that, I will analyze data and develop exploratory models that will serve as placeholders for similar real-world applications.\n",
        "\n"
      ]
    },
    {
      "cell_type": "markdown",
      "metadata": {
        "id": "9uWZXH9LwoQg"
      },
      "source": [
        "---"
      ]
    },
    {
      "cell_type": "markdown",
      "metadata": {},
      "source": [
        "# Import key libraries"
      ]
    },
    {
      "cell_type": "code",
      "execution_count": 5,
      "metadata": {},
      "outputs": [],
      "source": [
        "import numpy as np\n",
        "import pandas as pd\n",
        "import matplotlib.pyplot as plt\n",
        "import seaborn as sns"
      ]
    },
    {
      "cell_type": "markdown",
      "metadata": {
        "id": "cqP-UeN-z3i2"
      },
      "source": [
        "# Change working directory"
      ]
    },
    {
      "cell_type": "markdown",
      "metadata": {},
      "source": [
        "* We are assuming you will store the notebooks in a subfolder, therefore when running the notebook in the editor, you will need to change the working directory"
      ]
    },
    {
      "cell_type": "markdown",
      "metadata": {
        "id": "aOGIGS-uz3i2"
      },
      "source": [
        "We need to change the working directory from its current folder to its parent folder\n",
        "* We access the current directory with os.getcwd()"
      ]
    },
    {
      "cell_type": "code",
      "execution_count": 1,
      "metadata": {
        "id": "wZfF_j-Bz3i4",
        "outputId": "66943449-1436-4c3d-85c7-b85f9f78349b"
      },
      "outputs": [
        {
          "data": {
            "text/plain": [
              "'c:\\\\Users\\\\mshin\\\\vs-code-projects\\\\synthetic_learning_behavior_analysis\\\\project_work_jupyter_notebooks'"
            ]
          },
          "execution_count": 1,
          "metadata": {},
          "output_type": "execute_result"
        }
      ],
      "source": [
        "import os\n",
        "current_dir = os.getcwd()\n",
        "current_dir"
      ]
    },
    {
      "cell_type": "markdown",
      "metadata": {
        "id": "9MWW8E7lz3i7"
      },
      "source": [
        "We want to make the parent of the current directory the new current directory\n",
        "* os.path.dirname() gets the parent directory\n",
        "* os.chir() defines the new current directory"
      ]
    },
    {
      "cell_type": "code",
      "execution_count": 2,
      "metadata": {
        "id": "TwHsQRWjz3i9",
        "outputId": "86849db3-cd2f-4cc5-ebb8-2d0caafa1a2c"
      },
      "outputs": [
        {
          "name": "stdout",
          "output_type": "stream",
          "text": [
            "You set a new current directory\n"
          ]
        }
      ],
      "source": [
        "os.chdir(os.path.dirname(current_dir))\n",
        "print(\"You set a new current directory\")"
      ]
    },
    {
      "cell_type": "markdown",
      "metadata": {
        "id": "M_xPk_Ijz3i-"
      },
      "source": [
        "Confirm the new current directory"
      ]
    },
    {
      "cell_type": "code",
      "execution_count": 3,
      "metadata": {
        "id": "vz3S-_kjz3jA",
        "outputId": "00b79ae4-75d0-4a96-d193-ac9ef9847ea2"
      },
      "outputs": [
        {
          "data": {
            "text/plain": [
              "'c:\\\\Users\\\\mshin\\\\vs-code-projects\\\\synthetic_learning_behavior_analysis'"
            ]
          },
          "execution_count": 3,
          "metadata": {},
          "output_type": "execute_result"
        }
      ],
      "source": [
        "current_dir = os.getcwd()\n",
        "current_dir"
      ]
    },
    {
      "cell_type": "markdown",
      "metadata": {
        "id": "-mavJ8DibrcQ"
      },
      "source": [
        "# Data import"
      ]
    },
    {
      "cell_type": "markdown",
      "metadata": {},
      "source": [
        "Manually downloaded the source data file from [Kaggle](https://www.kaggle.com/datasets/adilshamim8/personalized-learning-and-adaptive-education-dataset/data), saved it locally (within data > source data), and importing it onto VSCode."
      ]
    },
    {
      "cell_type": "code",
      "execution_count": 26,
      "metadata": {},
      "outputs": [
        {
          "name": "stdout",
          "output_type": "stream",
          "text": [
            "(10000, 15)\n"
          ]
        },
        {
          "data": {
            "text/html": [
              "<div>\n",
              "<style scoped>\n",
              "    .dataframe tbody tr th:only-of-type {\n",
              "        vertical-align: middle;\n",
              "    }\n",
              "\n",
              "    .dataframe tbody tr th {\n",
              "        vertical-align: top;\n",
              "    }\n",
              "\n",
              "    .dataframe thead th {\n",
              "        text-align: right;\n",
              "    }\n",
              "</style>\n",
              "<table border=\"1\" class=\"dataframe\">\n",
              "  <thead>\n",
              "    <tr style=\"text-align: right;\">\n",
              "      <th></th>\n",
              "      <th>Student_ID</th>\n",
              "      <th>Age</th>\n",
              "      <th>Gender</th>\n",
              "      <th>Education_Level</th>\n",
              "      <th>Course_Name</th>\n",
              "      <th>Time_Spent_on_Videos</th>\n",
              "      <th>Quiz_Attempts</th>\n",
              "      <th>Quiz_Scores</th>\n",
              "      <th>Forum_Participation</th>\n",
              "      <th>Assignment_Completion_Rate</th>\n",
              "      <th>Engagement_Level</th>\n",
              "      <th>Final_Exam_Score</th>\n",
              "      <th>Learning_Style</th>\n",
              "      <th>Feedback_Score</th>\n",
              "      <th>Dropout_Likelihood</th>\n",
              "    </tr>\n",
              "  </thead>\n",
              "  <tbody>\n",
              "    <tr>\n",
              "      <th>0</th>\n",
              "      <td>S00001</td>\n",
              "      <td>15</td>\n",
              "      <td>Female</td>\n",
              "      <td>High School</td>\n",
              "      <td>Machine Learning</td>\n",
              "      <td>171</td>\n",
              "      <td>4</td>\n",
              "      <td>67</td>\n",
              "      <td>2</td>\n",
              "      <td>89</td>\n",
              "      <td>Medium</td>\n",
              "      <td>51</td>\n",
              "      <td>Visual</td>\n",
              "      <td>1</td>\n",
              "      <td>No</td>\n",
              "    </tr>\n",
              "    <tr>\n",
              "      <th>1</th>\n",
              "      <td>S00002</td>\n",
              "      <td>49</td>\n",
              "      <td>Male</td>\n",
              "      <td>Undergraduate</td>\n",
              "      <td>Python Basics</td>\n",
              "      <td>156</td>\n",
              "      <td>4</td>\n",
              "      <td>64</td>\n",
              "      <td>0</td>\n",
              "      <td>94</td>\n",
              "      <td>Medium</td>\n",
              "      <td>92</td>\n",
              "      <td>Reading/Writing</td>\n",
              "      <td>5</td>\n",
              "      <td>No</td>\n",
              "    </tr>\n",
              "    <tr>\n",
              "      <th>2</th>\n",
              "      <td>S00003</td>\n",
              "      <td>20</td>\n",
              "      <td>Female</td>\n",
              "      <td>Undergraduate</td>\n",
              "      <td>Python Basics</td>\n",
              "      <td>217</td>\n",
              "      <td>2</td>\n",
              "      <td>55</td>\n",
              "      <td>2</td>\n",
              "      <td>67</td>\n",
              "      <td>Medium</td>\n",
              "      <td>45</td>\n",
              "      <td>Reading/Writing</td>\n",
              "      <td>1</td>\n",
              "      <td>No</td>\n",
              "    </tr>\n",
              "    <tr>\n",
              "      <th>3</th>\n",
              "      <td>S00004</td>\n",
              "      <td>37</td>\n",
              "      <td>Female</td>\n",
              "      <td>Undergraduate</td>\n",
              "      <td>Data Science</td>\n",
              "      <td>489</td>\n",
              "      <td>1</td>\n",
              "      <td>65</td>\n",
              "      <td>43</td>\n",
              "      <td>60</td>\n",
              "      <td>High</td>\n",
              "      <td>59</td>\n",
              "      <td>Visual</td>\n",
              "      <td>4</td>\n",
              "      <td>No</td>\n",
              "    </tr>\n",
              "    <tr>\n",
              "      <th>4</th>\n",
              "      <td>S00005</td>\n",
              "      <td>34</td>\n",
              "      <td>Female</td>\n",
              "      <td>Postgraduate</td>\n",
              "      <td>Python Basics</td>\n",
              "      <td>496</td>\n",
              "      <td>3</td>\n",
              "      <td>59</td>\n",
              "      <td>34</td>\n",
              "      <td>88</td>\n",
              "      <td>Medium</td>\n",
              "      <td>93</td>\n",
              "      <td>Visual</td>\n",
              "      <td>3</td>\n",
              "      <td>No</td>\n",
              "    </tr>\n",
              "    <tr>\n",
              "      <th>5</th>\n",
              "      <td>S00006</td>\n",
              "      <td>34</td>\n",
              "      <td>Male</td>\n",
              "      <td>Undergraduate</td>\n",
              "      <td>Web Development</td>\n",
              "      <td>184</td>\n",
              "      <td>1</td>\n",
              "      <td>87</td>\n",
              "      <td>34</td>\n",
              "      <td>70</td>\n",
              "      <td>Medium</td>\n",
              "      <td>43</td>\n",
              "      <td>Visual</td>\n",
              "      <td>4</td>\n",
              "      <td>No</td>\n",
              "    </tr>\n",
              "    <tr>\n",
              "      <th>6</th>\n",
              "      <td>S00007</td>\n",
              "      <td>45</td>\n",
              "      <td>Male</td>\n",
              "      <td>High School</td>\n",
              "      <td>Cybersecurity</td>\n",
              "      <td>454</td>\n",
              "      <td>3</td>\n",
              "      <td>69</td>\n",
              "      <td>46</td>\n",
              "      <td>83</td>\n",
              "      <td>Low</td>\n",
              "      <td>37</td>\n",
              "      <td>Kinesthetic</td>\n",
              "      <td>5</td>\n",
              "      <td>No</td>\n",
              "    </tr>\n",
              "    <tr>\n",
              "      <th>7</th>\n",
              "      <td>S00008</td>\n",
              "      <td>47</td>\n",
              "      <td>Male</td>\n",
              "      <td>High School</td>\n",
              "      <td>Cybersecurity</td>\n",
              "      <td>425</td>\n",
              "      <td>2</td>\n",
              "      <td>62</td>\n",
              "      <td>23</td>\n",
              "      <td>52</td>\n",
              "      <td>High</td>\n",
              "      <td>35</td>\n",
              "      <td>Reading/Writing</td>\n",
              "      <td>5</td>\n",
              "      <td>No</td>\n",
              "    </tr>\n",
              "    <tr>\n",
              "      <th>8</th>\n",
              "      <td>S00009</td>\n",
              "      <td>48</td>\n",
              "      <td>Male</td>\n",
              "      <td>Undergraduate</td>\n",
              "      <td>Cybersecurity</td>\n",
              "      <td>359</td>\n",
              "      <td>1</td>\n",
              "      <td>59</td>\n",
              "      <td>10</td>\n",
              "      <td>88</td>\n",
              "      <td>Medium</td>\n",
              "      <td>49</td>\n",
              "      <td>Reading/Writing</td>\n",
              "      <td>2</td>\n",
              "      <td>No</td>\n",
              "    </tr>\n",
              "    <tr>\n",
              "      <th>9</th>\n",
              "      <td>S00010</td>\n",
              "      <td>45</td>\n",
              "      <td>Female</td>\n",
              "      <td>Undergraduate</td>\n",
              "      <td>Data Science</td>\n",
              "      <td>263</td>\n",
              "      <td>4</td>\n",
              "      <td>63</td>\n",
              "      <td>30</td>\n",
              "      <td>99</td>\n",
              "      <td>Low</td>\n",
              "      <td>61</td>\n",
              "      <td>Auditory</td>\n",
              "      <td>3</td>\n",
              "      <td>No</td>\n",
              "    </tr>\n",
              "  </tbody>\n",
              "</table>\n",
              "</div>"
            ],
            "text/plain": [
              "  Student_ID  Age  Gender Education_Level       Course_Name  \\\n",
              "0     S00001   15  Female     High School  Machine Learning   \n",
              "1     S00002   49    Male   Undergraduate     Python Basics   \n",
              "2     S00003   20  Female   Undergraduate     Python Basics   \n",
              "3     S00004   37  Female   Undergraduate      Data Science   \n",
              "4     S00005   34  Female    Postgraduate     Python Basics   \n",
              "5     S00006   34    Male   Undergraduate   Web Development   \n",
              "6     S00007   45    Male     High School     Cybersecurity   \n",
              "7     S00008   47    Male     High School     Cybersecurity   \n",
              "8     S00009   48    Male   Undergraduate     Cybersecurity   \n",
              "9     S00010   45  Female   Undergraduate      Data Science   \n",
              "\n",
              "   Time_Spent_on_Videos  Quiz_Attempts  Quiz_Scores  Forum_Participation  \\\n",
              "0                   171              4           67                    2   \n",
              "1                   156              4           64                    0   \n",
              "2                   217              2           55                    2   \n",
              "3                   489              1           65                   43   \n",
              "4                   496              3           59                   34   \n",
              "5                   184              1           87                   34   \n",
              "6                   454              3           69                   46   \n",
              "7                   425              2           62                   23   \n",
              "8                   359              1           59                   10   \n",
              "9                   263              4           63                   30   \n",
              "\n",
              "   Assignment_Completion_Rate Engagement_Level  Final_Exam_Score  \\\n",
              "0                          89           Medium                51   \n",
              "1                          94           Medium                92   \n",
              "2                          67           Medium                45   \n",
              "3                          60             High                59   \n",
              "4                          88           Medium                93   \n",
              "5                          70           Medium                43   \n",
              "6                          83              Low                37   \n",
              "7                          52             High                35   \n",
              "8                          88           Medium                49   \n",
              "9                          99              Low                61   \n",
              "\n",
              "    Learning_Style  Feedback_Score Dropout_Likelihood  \n",
              "0           Visual               1                 No  \n",
              "1  Reading/Writing               5                 No  \n",
              "2  Reading/Writing               1                 No  \n",
              "3           Visual               4                 No  \n",
              "4           Visual               3                 No  \n",
              "5           Visual               4                 No  \n",
              "6      Kinesthetic               5                 No  \n",
              "7  Reading/Writing               5                 No  \n",
              "8  Reading/Writing               2                 No  \n",
              "9         Auditory               3                 No  "
            ]
          },
          "execution_count": 26,
          "metadata": {},
          "output_type": "execute_result"
        }
      ],
      "source": [
        "df = pd.read_csv(\"data/source_data/personalized_learning_dataset.csv\")\n",
        "print(df.shape)\n",
        "df.head(10)"
      ]
    },
    {
      "cell_type": "markdown",
      "metadata": {},
      "source": [
        "This dataset contains **10,000 rows** (or observations) and **15 columns** (or features). "
      ]
    },
    {
      "cell_type": "markdown",
      "metadata": {},
      "source": [
        "**Discalimer:** After going through the Provenance section in Kaggle, I understand that this dataset is synthetically generated. While it is based on real-world observations, I am aware that it is not the ground truth. I will ensure that my observations, claims, or inferences are framed carefully."
      ]
    },
    {
      "cell_type": "code",
      "execution_count": 29,
      "metadata": {},
      "outputs": [
        {
          "name": "stdout",
          "output_type": "stream",
          "text": [
            "<class 'pandas.core.frame.DataFrame'>\n",
            "RangeIndex: 10000 entries, 0 to 9999\n",
            "Data columns (total 15 columns):\n",
            " #   Column                      Non-Null Count  Dtype \n",
            "---  ------                      --------------  ----- \n",
            " 0   Student_ID                  10000 non-null  object\n",
            " 1   Age                         10000 non-null  int64 \n",
            " 2   Gender                      10000 non-null  object\n",
            " 3   Education_Level             10000 non-null  object\n",
            " 4   Course_Name                 10000 non-null  object\n",
            " 5   Time_Spent_on_Videos        10000 non-null  int64 \n",
            " 6   Quiz_Attempts               10000 non-null  int64 \n",
            " 7   Quiz_Scores                 10000 non-null  int64 \n",
            " 8   Forum_Participation         10000 non-null  int64 \n",
            " 9   Assignment_Completion_Rate  10000 non-null  int64 \n",
            " 10  Engagement_Level            10000 non-null  object\n",
            " 11  Final_Exam_Score            10000 non-null  int64 \n",
            " 12  Learning_Style              10000 non-null  object\n",
            " 13  Feedback_Score              10000 non-null  int64 \n",
            " 14  Dropout_Likelihood          10000 non-null  object\n",
            "dtypes: int64(8), object(7)\n",
            "memory usage: 1.1+ MB\n"
          ]
        }
      ],
      "source": [
        "df.info()#Reviewing the data types to understand the data better"
      ]
    },
    {
      "cell_type": "markdown",
      "metadata": {},
      "source": [
        "This dataset contains learner behaviors in a Learning Management System. It contains a good mix of numerical data (time_spent_on_video, Quiz_Scores, and others), descriptive data (Course_Name and Learning_Style), and categorical data (Engagement_Level and Dropout_Likelihood)."
      ]
    },
    {
      "cell_type": "code",
      "execution_count": 11,
      "metadata": {},
      "outputs": [
        {
          "data": {
            "text/plain": [
              "Student_ID                    0\n",
              "Age                           0\n",
              "Gender                        0\n",
              "Education_Level               0\n",
              "Course_Name                   0\n",
              "Time_Spent_on_Videos          0\n",
              "Quiz_Attempts                 0\n",
              "Quiz_Scores                   0\n",
              "Forum_Participation           0\n",
              "Assignment_Completion_Rate    0\n",
              "Engagement_Level              0\n",
              "Final_Exam_Score              0\n",
              "Learning_Style                0\n",
              "Feedback_Score                0\n",
              "Dropout_Likelihood            0\n",
              "dtype: int64"
            ]
          },
          "execution_count": 11,
          "metadata": {},
          "output_type": "execute_result"
        }
      ],
      "source": [
        "df.isnull().sum() #Checking missing or null values in the dataset."
      ]
    },
    {
      "cell_type": "markdown",
      "metadata": {},
      "source": [
        "There are no missing values or nan values. Considering it is an engineered dataset, this is not surprising."
      ]
    },
    {
      "cell_type": "code",
      "execution_count": 25,
      "metadata": {},
      "outputs": [
        {
          "data": {
            "text/plain": [
              "Student_ID                      0\n",
              "Age                             0\n",
              "Gender                          0\n",
              "Education_Level                 0\n",
              "Course_Name                     0\n",
              "Time_Spent_on_Videos            0\n",
              "Quiz_Attempts                   0\n",
              "Quiz_Scores                     0\n",
              "Forum_Participation           204\n",
              "Assignment_Completion_Rate      0\n",
              "Engagement_Level                0\n",
              "Final_Exam_Score                0\n",
              "Learning_Style                  0\n",
              "Feedback_Score                  0\n",
              "Dropout_Likelihood              0\n",
              "dtype: int64"
            ]
          },
          "execution_count": 25,
          "metadata": {},
          "output_type": "execute_result"
        }
      ],
      "source": [
        "(df == 0).sum() #Checking for zero values in the dataset as this can cause a problem during statistical analysis."
      ]
    },
    {
      "cell_type": "markdown",
      "metadata": {},
      "source": [
        "There are **204** zero-value entries under **Forum_Participation**. Considering this a huge dataset with 10, 000 entries, having 204 learners not interacting on a forum is quite real-world."
      ]
    },
    {
      "cell_type": "markdown",
      "metadata": {},
      "source": [
        "**Assumption:** The zero-value entries within Forum_Participation are valid and true entries. "
      ]
    },
    {
      "cell_type": "code",
      "execution_count": 22,
      "metadata": {},
      "outputs": [
        {
          "data": {
            "text/html": [
              "<div>\n",
              "<style scoped>\n",
              "    .dataframe tbody tr th:only-of-type {\n",
              "        vertical-align: middle;\n",
              "    }\n",
              "\n",
              "    .dataframe tbody tr th {\n",
              "        vertical-align: top;\n",
              "    }\n",
              "\n",
              "    .dataframe thead th {\n",
              "        text-align: right;\n",
              "    }\n",
              "</style>\n",
              "<table border=\"1\" class=\"dataframe\">\n",
              "  <thead>\n",
              "    <tr style=\"text-align: right;\">\n",
              "      <th></th>\n",
              "      <th>Student_ID</th>\n",
              "      <th>Age</th>\n",
              "      <th>Gender</th>\n",
              "      <th>Education_Level</th>\n",
              "      <th>Course_Name</th>\n",
              "      <th>Time_Spent_on_Videos</th>\n",
              "      <th>Quiz_Attempts</th>\n",
              "      <th>Quiz_Scores</th>\n",
              "      <th>Forum_Participation</th>\n",
              "      <th>Assignment_Completion_Rate</th>\n",
              "      <th>Engagement_Level</th>\n",
              "      <th>Final_Exam_Score</th>\n",
              "      <th>Learning_Style</th>\n",
              "      <th>Feedback_Score</th>\n",
              "      <th>Dropout_Likelihood</th>\n",
              "    </tr>\n",
              "  </thead>\n",
              "  <tbody>\n",
              "  </tbody>\n",
              "</table>\n",
              "</div>"
            ],
            "text/plain": [
              "Empty DataFrame\n",
              "Columns: [Student_ID, Age, Gender, Education_Level, Course_Name, Time_Spent_on_Videos, Quiz_Attempts, Quiz_Scores, Forum_Participation, Assignment_Completion_Rate, Engagement_Level, Final_Exam_Score, Learning_Style, Feedback_Score, Dropout_Likelihood]\n",
              "Index: []"
            ]
          },
          "execution_count": 22,
          "metadata": {},
          "output_type": "execute_result"
        }
      ],
      "source": [
        "df_duplicate = df[df.duplicated()] #Checking for duplicated values in the dataset.\n",
        "df_duplicate"
      ]
    },
    {
      "cell_type": "markdown",
      "metadata": {},
      "source": [
        "An empty dataframe indicates that there are no duplicate values. I want to reconfirm this."
      ]
    },
    {
      "cell_type": "code",
      "execution_count": 24,
      "metadata": {},
      "outputs": [
        {
          "data": {
            "text/plain": [
              "0"
            ]
          },
          "execution_count": 24,
          "metadata": {},
          "output_type": "execute_result"
        }
      ],
      "source": [
        "df.duplicated().sum() #Rechecking to confirm that there are indeed no duplicates."
      ]
    },
    {
      "cell_type": "markdown",
      "metadata": {},
      "source": [
        "There are no duplicates. The author has created quite a smooth dataset. The challenge lies in how I can analyze the data. "
      ]
    },
    {
      "cell_type": "markdown",
      "metadata": {
        "id": "ZY3l0-AxO93d"
      },
      "source": [
        "---"
      ]
    },
    {
      "cell_type": "markdown",
      "metadata": {
        "id": "uFQo3ycuO-v6"
      },
      "source": [
        "# Data dictionary"
      ]
    },
    {
      "cell_type": "markdown",
      "metadata": {},
      "source": [
        "Here are the different features (columns) along with their meaning. This helps with reviewing and understanding the data better."
      ]
    },
    {
      "cell_type": "markdown",
      "metadata": {},
      "source": [
        "## Dictionary"
      ]
    },
    {
      "cell_type": "markdown",
      "metadata": {},
      "source": [
        "|Feature| Explanation|\n",
        "|------------------------------|-----------------------------------------------------------------------------| \n",
        "|Student_ID| Unique identifier for each learner|\n",
        "|Age| Age of the learners|\n",
        "|Gender| Gender of the learners|\n",
        "|Education_Level| The level of schooling|\n",
        "|Course_Name| Learners' choice of digital training session|\n",
        "|Time_Spent_on_Videos| The number of minutes learners spend on reviewing videos|\n",
        "|Quiz_Attempts| The number of trials on a quiz|\n",
        "|Quiz_Scores| The measurable outcome of a quiz (measured in percentage)|\n",
        "|Forum_Participation| The number of times learners participated in a discussion forum|\n",
        "|Assignment_Completion_Rate| The percentage of assignments completed|\n",
        "|Engagement_Level| The level of learner engagement (based on activity metrics)|\n",
        "|Final_Exam_Score| The measurable outcome of the learning session (measured in percentage)|\n",
        "|Learning_Style| Preferred method to learning|\n",
        "|Feedback_Score| Measure of learners'rating for the course (measured upon 5)|\n",
        "|Dropout_Likelihood| Probability of a learner dropping out of the course|\n",
        "\n",
        "\t\t\t\t\t\t\t\t\t\t"
      ]
    },
    {
      "cell_type": "markdown",
      "metadata": {},
      "source": [
        "**Source credit:** Populated this section based on previous industry experience. I also leveraged Kaggle to come up with certain contextual information(such as how time spent on videos is measured)."
      ]
    }
  ],
  "metadata": {
    "accelerator": "GPU",
    "colab": {
      "name": "Data Practitioner Jupyter Notebook.ipynb",
      "provenance": [],
      "toc_visible": true
    },
    "kernelspec": {
      "display_name": ".venv",
      "language": "python",
      "name": "python3"
    },
    "language_info": {
      "codemirror_mode": {
        "name": "ipython",
        "version": 3
      },
      "file_extension": ".py",
      "mimetype": "text/x-python",
      "name": "python",
      "nbconvert_exporter": "python",
      "pygments_lexer": "ipython3",
      "version": "3.12.8"
    },
    "orig_nbformat": 2
  },
  "nbformat": 4,
  "nbformat_minor": 2
}
